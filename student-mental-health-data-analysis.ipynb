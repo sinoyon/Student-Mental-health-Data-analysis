{
 "cells": [
  {
   "cell_type": "markdown",
   "id": "180b427a",
   "metadata": {
    "papermill": {
     "duration": 0.025374,
     "end_time": "2022-06-01T16:27:22.450715",
     "exception": false,
     "start_time": "2022-06-01T16:27:22.425341",
     "status": "completed"
    },
    "tags": []
   },
   "source": [
    "**A STATISTICAL RESEARCH ON THE EFFECTS OF MENTAL HEALTH ON STUDENTS’ CGPA******"
   ]
  },
  {
   "cell_type": "code",
   "execution_count": 1,
   "id": "425bb2ba",
   "metadata": {
    "execution": {
     "iopub.execute_input": "2022-06-01T16:27:22.502232Z",
     "iopub.status.busy": "2022-06-01T16:27:22.501344Z",
     "iopub.status.idle": "2022-06-01T16:27:23.819176Z",
     "shell.execute_reply": "2022-06-01T16:27:23.817675Z"
    },
    "papermill": {
     "duration": 1.345939,
     "end_time": "2022-06-01T16:27:23.822122",
     "exception": false,
     "start_time": "2022-06-01T16:27:22.476183",
     "status": "completed"
    },
    "tags": []
   },
   "outputs": [
    {
     "name": "stdout",
     "output_type": "stream",
     "text": [
      "/kaggle/input/student-mental-health/Student Mental health.csv\n"
     ]
    }
   ],
   "source": [
    "import numpy as np # linear algebra\n",
    "import pandas as pd # data processing, CSV file I/O (e.g. pd.read_csv)\n",
    "%matplotlib inline\n",
    "import matplotlib as mpl\n",
    "import matplotlib.pyplot as plt\n",
    "from matplotlib.ticker import StrMethodFormatter\n",
    "import seaborn as sns\n",
    "import datetime\n",
    "import random\n",
    "import os\n",
    "for dirname, _, filenames in os.walk('/kaggle/input'):\n",
    "    for filename in filenames:\n",
    "        print(os.path.join(dirname, filename))"
   ]
  },
  {
   "cell_type": "markdown",
   "id": "b3b4c60d",
   "metadata": {
    "papermill": {
     "duration": 0.02319,
     "end_time": "2022-06-01T16:27:23.869588",
     "exception": false,
     "start_time": "2022-06-01T16:27:23.846398",
     "status": "completed"
    },
    "tags": []
   },
   "source": [
    "# Reading the Dataset"
   ]
  },
  {
   "cell_type": "code",
   "execution_count": 2,
   "id": "6158d3ea",
   "metadata": {
    "execution": {
     "iopub.execute_input": "2022-06-01T16:27:23.918276Z",
     "iopub.status.busy": "2022-06-01T16:27:23.917957Z",
     "iopub.status.idle": "2022-06-01T16:27:23.938419Z",
     "shell.execute_reply": "2022-06-01T16:27:23.937515Z"
    },
    "papermill": {
     "duration": 0.047629,
     "end_time": "2022-06-01T16:27:23.940875",
     "exception": false,
     "start_time": "2022-06-01T16:27:23.893246",
     "status": "completed"
    },
    "tags": []
   },
   "outputs": [],
   "source": [
    "df = pd.read_csv('/kaggle/input/student-mental-health/Student Mental health.csv')"
   ]
  },
  {
   "cell_type": "code",
   "execution_count": 3,
   "id": "b4d0c071",
   "metadata": {
    "execution": {
     "iopub.execute_input": "2022-06-01T16:27:23.990701Z",
     "iopub.status.busy": "2022-06-01T16:27:23.990207Z",
     "iopub.status.idle": "2022-06-01T16:27:24.018060Z",
     "shell.execute_reply": "2022-06-01T16:27:24.017027Z"
    },
    "papermill": {
     "duration": 0.056222,
     "end_time": "2022-06-01T16:27:24.021136",
     "exception": false,
     "start_time": "2022-06-01T16:27:23.964914",
     "status": "completed"
    },
    "tags": []
   },
   "outputs": [
    {
     "data": {
      "text/html": [
       "<div>\n",
       "<style scoped>\n",
       "    .dataframe tbody tr th:only-of-type {\n",
       "        vertical-align: middle;\n",
       "    }\n",
       "\n",
       "    .dataframe tbody tr th {\n",
       "        vertical-align: top;\n",
       "    }\n",
       "\n",
       "    .dataframe thead th {\n",
       "        text-align: right;\n",
       "    }\n",
       "</style>\n",
       "<table border=\"1\" class=\"dataframe\">\n",
       "  <thead>\n",
       "    <tr style=\"text-align: right;\">\n",
       "      <th></th>\n",
       "      <th>Timestamp</th>\n",
       "      <th>Choose your gender</th>\n",
       "      <th>Age</th>\n",
       "      <th>What is your course?</th>\n",
       "      <th>Your current year of Study</th>\n",
       "      <th>What is your CGPA?</th>\n",
       "      <th>Marital status</th>\n",
       "      <th>Do you have Depression?</th>\n",
       "      <th>Do you have Anxiety?</th>\n",
       "      <th>Do you have Panic attack?</th>\n",
       "      <th>Did you seek any specialist for a treatment?</th>\n",
       "    </tr>\n",
       "  </thead>\n",
       "  <tbody>\n",
       "    <tr>\n",
       "      <th>0</th>\n",
       "      <td>8/7/2020 12:02</td>\n",
       "      <td>Female</td>\n",
       "      <td>18.0</td>\n",
       "      <td>Engineering</td>\n",
       "      <td>year 1</td>\n",
       "      <td>3.00 - 3.49</td>\n",
       "      <td>No</td>\n",
       "      <td>Yes</td>\n",
       "      <td>No</td>\n",
       "      <td>Yes</td>\n",
       "      <td>No</td>\n",
       "    </tr>\n",
       "    <tr>\n",
       "      <th>1</th>\n",
       "      <td>8/7/2020 12:04</td>\n",
       "      <td>Male</td>\n",
       "      <td>21.0</td>\n",
       "      <td>Islamic education</td>\n",
       "      <td>year 2</td>\n",
       "      <td>3.00 - 3.49</td>\n",
       "      <td>No</td>\n",
       "      <td>No</td>\n",
       "      <td>Yes</td>\n",
       "      <td>No</td>\n",
       "      <td>No</td>\n",
       "    </tr>\n",
       "    <tr>\n",
       "      <th>2</th>\n",
       "      <td>8/7/2020 12:05</td>\n",
       "      <td>Male</td>\n",
       "      <td>19.0</td>\n",
       "      <td>BIT</td>\n",
       "      <td>Year 1</td>\n",
       "      <td>3.00 - 3.49</td>\n",
       "      <td>No</td>\n",
       "      <td>Yes</td>\n",
       "      <td>Yes</td>\n",
       "      <td>Yes</td>\n",
       "      <td>No</td>\n",
       "    </tr>\n",
       "    <tr>\n",
       "      <th>3</th>\n",
       "      <td>8/7/2020 12:06</td>\n",
       "      <td>Female</td>\n",
       "      <td>22.0</td>\n",
       "      <td>Laws</td>\n",
       "      <td>year 3</td>\n",
       "      <td>3.00 - 3.49</td>\n",
       "      <td>Yes</td>\n",
       "      <td>Yes</td>\n",
       "      <td>No</td>\n",
       "      <td>No</td>\n",
       "      <td>No</td>\n",
       "    </tr>\n",
       "    <tr>\n",
       "      <th>4</th>\n",
       "      <td>8/7/2020 12:13</td>\n",
       "      <td>Male</td>\n",
       "      <td>23.0</td>\n",
       "      <td>Mathemathics</td>\n",
       "      <td>year 4</td>\n",
       "      <td>3.00 - 3.49</td>\n",
       "      <td>No</td>\n",
       "      <td>No</td>\n",
       "      <td>No</td>\n",
       "      <td>No</td>\n",
       "      <td>No</td>\n",
       "    </tr>\n",
       "  </tbody>\n",
       "</table>\n",
       "</div>"
      ],
      "text/plain": [
       "        Timestamp Choose your gender   Age What is your course?  \\\n",
       "0  8/7/2020 12:02             Female  18.0          Engineering   \n",
       "1  8/7/2020 12:04               Male  21.0    Islamic education   \n",
       "2  8/7/2020 12:05               Male  19.0                  BIT   \n",
       "3  8/7/2020 12:06             Female  22.0                 Laws   \n",
       "4  8/7/2020 12:13               Male  23.0         Mathemathics   \n",
       "\n",
       "  Your current year of Study What is your CGPA? Marital status  \\\n",
       "0                     year 1        3.00 - 3.49             No   \n",
       "1                     year 2        3.00 - 3.49             No   \n",
       "2                     Year 1        3.00 - 3.49             No   \n",
       "3                     year 3        3.00 - 3.49            Yes   \n",
       "4                     year 4        3.00 - 3.49             No   \n",
       "\n",
       "  Do you have Depression? Do you have Anxiety? Do you have Panic attack?  \\\n",
       "0                     Yes                   No                       Yes   \n",
       "1                      No                  Yes                        No   \n",
       "2                     Yes                  Yes                       Yes   \n",
       "3                     Yes                   No                        No   \n",
       "4                      No                   No                        No   \n",
       "\n",
       "  Did you seek any specialist for a treatment?  \n",
       "0                                           No  \n",
       "1                                           No  \n",
       "2                                           No  \n",
       "3                                           No  \n",
       "4                                           No  "
      ]
     },
     "execution_count": 3,
     "metadata": {},
     "output_type": "execute_result"
    }
   ],
   "source": [
    "df.head()"
   ]
  },
  {
   "cell_type": "code",
   "execution_count": 4,
   "id": "35143959",
   "metadata": {
    "execution": {
     "iopub.execute_input": "2022-06-01T16:27:24.073809Z",
     "iopub.status.busy": "2022-06-01T16:27:24.073215Z",
     "iopub.status.idle": "2022-06-01T16:27:24.080023Z",
     "shell.execute_reply": "2022-06-01T16:27:24.079174Z"
    },
    "papermill": {
     "duration": 0.035731,
     "end_time": "2022-06-01T16:27:24.082091",
     "exception": false,
     "start_time": "2022-06-01T16:27:24.046360",
     "status": "completed"
    },
    "tags": []
   },
   "outputs": [
    {
     "data": {
      "text/plain": [
       "(101, 11)"
      ]
     },
     "execution_count": 4,
     "metadata": {},
     "output_type": "execute_result"
    }
   ],
   "source": [
    "df.shape"
   ]
  },
  {
   "cell_type": "code",
   "execution_count": 5,
   "id": "9e95987a",
   "metadata": {
    "execution": {
     "iopub.execute_input": "2022-06-01T16:27:24.132061Z",
     "iopub.status.busy": "2022-06-01T16:27:24.131616Z",
     "iopub.status.idle": "2022-06-01T16:27:24.140080Z",
     "shell.execute_reply": "2022-06-01T16:27:24.138174Z"
    },
    "papermill": {
     "duration": 0.035966,
     "end_time": "2022-06-01T16:27:24.142176",
     "exception": false,
     "start_time": "2022-06-01T16:27:24.106210",
     "status": "completed"
    },
    "tags": []
   },
   "outputs": [
    {
     "data": {
      "text/plain": [
       "Timestamp                                        object\n",
       "Choose your gender                               object\n",
       "Age                                             float64\n",
       "What is your course?                             object\n",
       "Your current year of Study                       object\n",
       "What is your CGPA?                               object\n",
       "Marital status                                   object\n",
       "Do you have Depression?                          object\n",
       "Do you have Anxiety?                             object\n",
       "Do you have Panic attack?                        object\n",
       "Did you seek any specialist for a treatment?     object\n",
       "dtype: object"
      ]
     },
     "execution_count": 5,
     "metadata": {},
     "output_type": "execute_result"
    }
   ],
   "source": [
    "df.dtypes"
   ]
  },
  {
   "cell_type": "code",
   "execution_count": 6,
   "id": "bf341e2b",
   "metadata": {
    "execution": {
     "iopub.execute_input": "2022-06-01T16:27:24.192647Z",
     "iopub.status.busy": "2022-06-01T16:27:24.192246Z",
     "iopub.status.idle": "2022-06-01T16:27:24.207378Z",
     "shell.execute_reply": "2022-06-01T16:27:24.206029Z"
    },
    "papermill": {
     "duration": 0.04301,
     "end_time": "2022-06-01T16:27:24.209642",
     "exception": false,
     "start_time": "2022-06-01T16:27:24.166632",
     "status": "completed"
    },
    "tags": []
   },
   "outputs": [
    {
     "data": {
      "text/plain": [
       "Timestamp                                       92\n",
       "Choose your gender                               2\n",
       "Age                                              7\n",
       "What is your course?                            49\n",
       "Your current year of Study                       7\n",
       "What is your CGPA?                               6\n",
       "Marital status                                   2\n",
       "Do you have Depression?                          2\n",
       "Do you have Anxiety?                             2\n",
       "Do you have Panic attack?                        2\n",
       "Did you seek any specialist for a treatment?     2\n",
       "dtype: int64"
      ]
     },
     "execution_count": 6,
     "metadata": {},
     "output_type": "execute_result"
    }
   ],
   "source": [
    "df.nunique()"
   ]
  },
  {
   "cell_type": "code",
   "execution_count": 7,
   "id": "644e420e",
   "metadata": {
    "execution": {
     "iopub.execute_input": "2022-06-01T16:27:24.266633Z",
     "iopub.status.busy": "2022-06-01T16:27:24.265893Z",
     "iopub.status.idle": "2022-06-01T16:27:24.277130Z",
     "shell.execute_reply": "2022-06-01T16:27:24.276030Z"
    },
    "papermill": {
     "duration": 0.043589,
     "end_time": "2022-06-01T16:27:24.279960",
     "exception": false,
     "start_time": "2022-06-01T16:27:24.236371",
     "status": "completed"
    },
    "tags": []
   },
   "outputs": [
    {
     "data": {
      "text/plain": [
       "Timestamp                                       0\n",
       "Choose your gender                              0\n",
       "Age                                             1\n",
       "What is your course?                            0\n",
       "Your current year of Study                      0\n",
       "What is your CGPA?                              0\n",
       "Marital status                                  0\n",
       "Do you have Depression?                         0\n",
       "Do you have Anxiety?                            0\n",
       "Do you have Panic attack?                       0\n",
       "Did you seek any specialist for a treatment?    0\n",
       "dtype: int64"
      ]
     },
     "execution_count": 7,
     "metadata": {},
     "output_type": "execute_result"
    }
   ],
   "source": [
    "df.isnull().sum()"
   ]
  },
  {
   "cell_type": "code",
   "execution_count": 8,
   "id": "aad37187",
   "metadata": {
    "execution": {
     "iopub.execute_input": "2022-06-01T16:27:24.336076Z",
     "iopub.status.busy": "2022-06-01T16:27:24.335772Z",
     "iopub.status.idle": "2022-06-01T16:27:24.346706Z",
     "shell.execute_reply": "2022-06-01T16:27:24.345904Z"
    },
    "papermill": {
     "duration": 0.040051,
     "end_time": "2022-06-01T16:27:24.348639",
     "exception": false,
     "start_time": "2022-06-01T16:27:24.308588",
     "status": "completed"
    },
    "tags": []
   },
   "outputs": [],
   "source": [
    "df = df.dropna(how='any',axis=0) "
   ]
  },
  {
   "cell_type": "code",
   "execution_count": 9,
   "id": "06248be0",
   "metadata": {
    "execution": {
     "iopub.execute_input": "2022-06-01T16:27:24.401541Z",
     "iopub.status.busy": "2022-06-01T16:27:24.400746Z",
     "iopub.status.idle": "2022-06-01T16:27:24.409648Z",
     "shell.execute_reply": "2022-06-01T16:27:24.409040Z"
    },
    "papermill": {
     "duration": 0.037924,
     "end_time": "2022-06-01T16:27:24.411448",
     "exception": false,
     "start_time": "2022-06-01T16:27:24.373524",
     "status": "completed"
    },
    "tags": []
   },
   "outputs": [
    {
     "data": {
      "text/plain": [
       "Timestamp                                       0\n",
       "Choose your gender                              0\n",
       "Age                                             0\n",
       "What is your course?                            0\n",
       "Your current year of Study                      0\n",
       "What is your CGPA?                              0\n",
       "Marital status                                  0\n",
       "Do you have Depression?                         0\n",
       "Do you have Anxiety?                            0\n",
       "Do you have Panic attack?                       0\n",
       "Did you seek any specialist for a treatment?    0\n",
       "dtype: int64"
      ]
     },
     "execution_count": 9,
     "metadata": {},
     "output_type": "execute_result"
    }
   ],
   "source": [
    "df.isnull().sum()"
   ]
  },
  {
   "cell_type": "markdown",
   "id": "fc5feab7",
   "metadata": {
    "papermill": {
     "duration": 0.025827,
     "end_time": "2022-06-01T16:27:24.463308",
     "exception": false,
     "start_time": "2022-06-01T16:27:24.437481",
     "status": "completed"
    },
    "tags": []
   },
   "source": [
    "# Data Visualization"
   ]
  },
  {
   "cell_type": "code",
   "execution_count": 10,
   "id": "2dcff158",
   "metadata": {
    "execution": {
     "iopub.execute_input": "2022-06-01T16:27:24.515981Z",
     "iopub.status.busy": "2022-06-01T16:27:24.515424Z",
     "iopub.status.idle": "2022-06-01T16:27:24.787819Z",
     "shell.execute_reply": "2022-06-01T16:27:24.786890Z"
    },
    "papermill": {
     "duration": 0.301454,
     "end_time": "2022-06-01T16:27:24.790081",
     "exception": false,
     "start_time": "2022-06-01T16:27:24.488627",
     "status": "completed"
    },
    "tags": []
   },
   "outputs": [
    {
     "data": {
      "image/png": "[encoded data removed]",
      "text/plain": [
       "<Figure size 720x720 with 1 Axes>"
      ]
     },
     "metadata": {
      "needs_background": "light"
     },
     "output_type": "display_data"
    }
   ],
   "source": [
    "plt.figure(figsize=(10,10))\n",
    "plt.hist(df['Age'],color='b')\n",
    "plt.title(\"Age distribution\");"
   ]
  },
  {
   "cell_type": "code",
   "execution_count": 11,
   "id": "cf4794ae",
   "metadata": {
    "execution": {
     "iopub.execute_input": "2022-06-01T16:27:24.845911Z",
     "iopub.status.busy": "2022-06-01T16:27:24.845472Z",
     "iopub.status.idle": "2022-06-01T16:27:24.851464Z",
     "shell.execute_reply": "2022-06-01T16:27:24.850483Z"
    },
    "papermill": {
     "duration": 0.036854,
     "end_time": "2022-06-01T16:27:24.853656",
     "exception": false,
     "start_time": "2022-06-01T16:27:24.816802",
     "status": "completed"
    },
    "tags": []
   },
   "outputs": [],
   "source": [
    "df.rename(columns = {'Choose your gender': 'gender'}, inplace = True)"
   ]
  },
  {
   "cell_type": "code",
   "execution_count": 12,
   "id": "1dc535f8",
   "metadata": {
    "execution": {
     "iopub.execute_input": "2022-06-01T16:27:24.908645Z",
     "iopub.status.busy": "2022-06-01T16:27:24.908305Z",
     "iopub.status.idle": "2022-06-01T16:27:25.137392Z",
     "shell.execute_reply": "2022-06-01T16:27:25.136358Z"
    },
    "papermill": {
     "duration": 0.26035,
     "end_time": "2022-06-01T16:27:25.140506",
     "exception": false,
     "start_time": "2022-06-01T16:27:24.880156",
     "status": "completed"
    },
    "tags": []
   },
   "outputs": [
    {
     "data": {
      "image/png": "[encoded data removed]",
      "text/plain": [
       "<Figure size 864x432 with 1 Axes>"
      ]
     },
     "metadata": {},
     "output_type": "display_data"
    }
   ],
   "source": [
    "plt.figure(figsize=(12,6))\n",
    "plt.title(\"gender distribution\")\n",
    "g = plt.pie(df.gender.value_counts(), explode=(0.025,0.025), labels=df.gender.value_counts().index, colors=['skyblue','navajowhite'],autopct='%1.1f%%', startangle=180);\n",
    "plt.legend()\n",
    "plt.show()"
   ]
  },
  {
   "cell_type": "code",
   "execution_count": 13,
   "id": "60ef832c",
   "metadata": {
    "execution": {
     "iopub.execute_input": "2022-06-01T16:27:25.213833Z",
     "iopub.status.busy": "2022-06-01T16:27:25.213192Z",
     "iopub.status.idle": "2022-06-01T16:27:25.492999Z",
     "shell.execute_reply": "2022-06-01T16:27:25.492300Z"
    },
    "papermill": {
     "duration": 0.311437,
     "end_time": "2022-06-01T16:27:25.495202",
     "exception": false,
     "start_time": "2022-06-01T16:27:25.183765",
     "status": "completed"
    },
    "tags": []
   },
   "outputs": [
    {
     "name": "stderr",
     "output_type": "stream",
     "text": [
      "/opt/conda/lib/python3.7/site-packages/seaborn/_decorators.py:43: FutureWarning: Pass the following variable as a keyword arg: x. From version 0.12, the only valid positional argument will be `data`, and passing other arguments without an explicit keyword will result in an error or misinterpretation.\n",
      "  FutureWarning\n"
     ]
    },
    {
     "data": {
      "image/png": "[encoded data removed]",
      "text/plain": [
       "<Figure size 720x720 with 1 Axes>"
      ]
     },
     "metadata": {
      "needs_background": "light"
     },
     "output_type": "display_data"
    }
   ],
   "source": [
    "plt.figure(figsize=(10,10))\n",
    "sns.countplot(df['Your current year of Study'],hue=df['gender'])\n",
    "plt.title(\"Students studyig in particular year\");"
   ]
  },
  {
   "cell_type": "code",
   "execution_count": 14,
   "id": "ffbc922b",
   "metadata": {
    "execution": {
     "iopub.execute_input": "2022-06-01T16:27:25.556198Z",
     "iopub.status.busy": "2022-06-01T16:27:25.555608Z",
     "iopub.status.idle": "2022-06-01T16:27:25.756972Z",
     "shell.execute_reply": "2022-06-01T16:27:25.755459Z"
    },
    "papermill": {
     "duration": 0.235559,
     "end_time": "2022-06-01T16:27:25.760233",
     "exception": false,
     "start_time": "2022-06-01T16:27:25.524674",
     "status": "completed"
    },
    "tags": []
   },
   "outputs": [
    {
     "name": "stderr",
     "output_type": "stream",
     "text": [
      "/opt/conda/lib/python3.7/site-packages/seaborn/_decorators.py:43: FutureWarning: Pass the following variable as a keyword arg: x. From version 0.12, the only valid positional argument will be `data`, and passing other arguments without an explicit keyword will result in an error or misinterpretation.\n",
      "  FutureWarning\n"
     ]
    },
    {
     "data": {
      "image/png": "[encoded data removed]",
      "text/plain": [
       "<Figure size 720x720 with 1 Axes>"
      ]
     },
     "metadata": {
      "needs_background": "light"
     },
     "output_type": "display_data"
    }
   ],
   "source": [
    "plt.figure(figsize=(10,10))\n",
    "sns.countplot(df['Do you have Anxiety?'],hue=df['Do you have Depression?'])\n",
    "plt.title(\"Students studyig in particular year\");\n",
    "plt.show()"
   ]
  },
  {
   "cell_type": "code",
   "execution_count": 15,
   "id": "78a85e14",
   "metadata": {
    "execution": {
     "iopub.execute_input": "2022-06-01T16:27:25.826452Z",
     "iopub.status.busy": "2022-06-01T16:27:25.825970Z",
     "iopub.status.idle": "2022-06-01T16:27:26.086297Z",
     "shell.execute_reply": "2022-06-01T16:27:26.085703Z"
    },
    "papermill": {
     "duration": 0.296039,
     "end_time": "2022-06-01T16:27:26.088356",
     "exception": false,
     "start_time": "2022-06-01T16:27:25.792317",
     "status": "completed"
    },
    "tags": []
   },
   "outputs": [
    {
     "data": {
      "image/png": "[encoded data removed]",
      "text/plain": [
       "<Figure size 720x720 with 1 Axes>"
      ]
     },
     "metadata": {
      "needs_background": "light"
     },
     "output_type": "display_data"
    }
   ],
   "source": [
    "plt.figure(figsize=(10,10))\n",
    "sns.set_theme(style=\"darkgrid\")\n",
    "ax = sns.countplot(y=\"Do you have Anxiety?\", hue=\"gender\", data=df)\n",
    "plt.title(\"Anxiety by Gender\")\n",
    "plt.show()"
   ]
  },
  {
   "cell_type": "code",
   "execution_count": 16,
   "id": "33131d43",
   "metadata": {
    "execution": {
     "iopub.execute_input": "2022-06-01T16:27:26.153274Z",
     "iopub.status.busy": "2022-06-01T16:27:26.152650Z",
     "iopub.status.idle": "2022-06-01T16:27:26.393113Z",
     "shell.execute_reply": "2022-06-01T16:27:26.392016Z"
    },
    "papermill": {
     "duration": 0.275581,
     "end_time": "2022-06-01T16:27:26.395567",
     "exception": false,
     "start_time": "2022-06-01T16:27:26.119986",
     "status": "completed"
    },
    "tags": []
   },
   "outputs": [
    {
     "data": {
      "image/png": "[encoded data removed]",
      "text/plain": [
       "<Figure size 720x720 with 1 Axes>"
      ]
     },
     "metadata": {},
     "output_type": "display_data"
    }
   ],
   "source": [
    "plt.figure(figsize=(10,10))\n",
    "sns.set_theme(style=\"darkgrid\")\n",
    "ax = sns.countplot(y=\"Do you have Depression?\", hue=\"gender\", data=df)\n",
    "plt.title(\"Depression by Gender\")\n",
    "plt.show()"
   ]
  },
  {
   "cell_type": "code",
   "execution_count": 17,
   "id": "4be66669",
   "metadata": {
    "execution": {
     "iopub.execute_input": "2022-06-01T16:27:26.465968Z",
     "iopub.status.busy": "2022-06-01T16:27:26.465220Z",
     "iopub.status.idle": "2022-06-01T16:27:26.750935Z",
     "shell.execute_reply": "2022-06-01T16:27:26.750391Z"
    },
    "papermill": {
     "duration": 0.322527,
     "end_time": "2022-06-01T16:27:26.753178",
     "exception": false,
     "start_time": "2022-06-01T16:27:26.430651",
     "status": "completed"
    },
    "tags": []
   },
   "outputs": [
    {
     "data": {
      "image/png": "[encoded data removed]",
      "text/plain": [
       "<Figure size 720x720 with 1 Axes>"
      ]
     },
     "metadata": {},
     "output_type": "display_data"
    }
   ],
   "source": [
    "plt.figure(figsize=(10,10))\n",
    "sns.set_theme(style=\"darkgrid\")\n",
    "ax = sns.countplot(x=\"Do you have Anxiety?\", hue=\"Your current year of Study\", data=df)\n",
    "plt.title(\"Anxiety by study year\")\n",
    "plt.show()"
   ]
  },
  {
   "cell_type": "code",
   "execution_count": 18,
   "id": "2ce48ef3",
   "metadata": {
    "execution": {
     "iopub.execute_input": "2022-06-01T16:27:26.823497Z",
     "iopub.status.busy": "2022-06-01T16:27:26.822949Z",
     "iopub.status.idle": "2022-06-01T16:27:27.090609Z",
     "shell.execute_reply": "2022-06-01T16:27:27.089861Z"
    },
    "papermill": {
     "duration": 0.304982,
     "end_time": "2022-06-01T16:27:27.092805",
     "exception": false,
     "start_time": "2022-06-01T16:27:26.787823",
     "status": "completed"
    },
    "tags": []
   },
   "outputs": [
    {
     "data": {
      "image/png": "[encoded data removed]",
      "text/plain": [
       "<Figure size 720x720 with 1 Axes>"
      ]
     },
     "metadata": {},
     "output_type": "display_data"
    }
   ],
   "source": [
    "plt.figure(figsize=(10,10))\n",
    "sns.set_theme(style=\"darkgrid\")\n",
    "ax = sns.countplot(x=\"Do you have Depression?\", hue=\"Your current year of Study\", data=df)\n",
    "plt.title(\"Depression by study year\")\n",
    "plt.show()"
   ]
  },
  {
   "cell_type": "code",
   "execution_count": 19,
   "id": "23b72451",
   "metadata": {
    "execution": {
     "iopub.execute_input": "2022-06-01T16:27:27.166953Z",
     "iopub.status.busy": "2022-06-01T16:27:27.166405Z",
     "iopub.status.idle": "2022-06-01T16:27:27.436325Z",
     "shell.execute_reply": "2022-06-01T16:27:27.435779Z"
    },
    "papermill": {
     "duration": 0.309023,
     "end_time": "2022-06-01T16:27:27.438347",
     "exception": false,
     "start_time": "2022-06-01T16:27:27.129324",
     "status": "completed"
    },
    "tags": []
   },
   "outputs": [
    {
     "data": {
      "image/png": "[encoded data removed]",
      "text/plain": [
       "<Figure size 720x720 with 1 Axes>"
      ]
     },
     "metadata": {},
     "output_type": "display_data"
    }
   ],
   "source": [
    "plt.figure(figsize=(10,10))\n",
    "sns.set_theme(style=\"darkgrid\")\n",
    "ax = sns.countplot(x=\"Do you have Panic attack?\", hue=\"What is your CGPA?\", data=df)\n",
    "plt.title(\"Panic attack by CGPA\")\n",
    "plt.show()"
   ]
  },
  {
   "cell_type": "code",
   "execution_count": null,
   "id": "beb95b29",
   "metadata": {
    "papermill": {
     "duration": 0.035649,
     "end_time": "2022-06-01T16:27:27.510730",
     "exception": false,
     "start_time": "2022-06-01T16:27:27.475081",
     "status": "completed"
    },
    "tags": []
   },
   "outputs": [],
   "source": []
  }
 ],
 "metadata": {
  "kernelspec": {
   "display_name": "Python 3",
   "language": "python",
   "name": "python3"
  },
  "language_info": {
   "codemirror_mode": {
    "name": "ipython",
    "version": 3
   },
   "file_extension": ".py",
   "mimetype": "text/x-python",
   "name": "python",
   "nbconvert_exporter": "python",
   "pygments_lexer": "ipython3",
   "version": "3.7.12"
  },
  "papermill": {
   "default_parameters": {},
   "duration": 16.91326,
   "end_time": "2022-06-01T16:27:28.371807",
   "environment_variables": {},
   "exception": null,
   "input_path": "__notebook__.ipynb",
   "output_path": "__notebook__.ipynb",
   "parameters": {},
   "start_time": "2022-06-01T16:27:11.458547",
   "version": "2.3.4"
  }
 },
 "nbformat": 4,
 "nbformat_minor": 5
}
